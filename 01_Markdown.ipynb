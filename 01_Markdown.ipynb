{
 "cells": [
  {
   "cell_type": "markdown",
   "id": "b99826f9",
   "metadata": {},
   "source": [
    "#Archivo de prueba"
   ]
  },
  {
   "cell_type": "markdown",
   "id": "b63111cc",
   "metadata": {},
   "source": [
    "# Título 1\n",
    "Todos los títulos empiezan con signo ´´´#´´´\n",
    "## Título 2\n",
    "### Título 3\n",
    "#### Título 4\n",
    "##### Título 5\n",
    "###### Título 6"
   ]
  },
  {
   "cell_type": "markdown",
   "id": "66395052",
   "metadata": {},
   "source": [
    "# Blockquote\n",
    "Los _blocquotes_ se hacen con el signo ´´´>´´´\n",
    "> # título del blockquote\n",
    "> Este es el párrafo del blockquote\n",
    ">\n",
    ">> Este es un blockquote anidado\n",
    ">> Tenemos más Texto\n",
    ">\n",
    "> ## Segunda parte\n",
    "> Más texto"
   ]
  },
  {
   "cell_type": "markdown",
   "id": "38f63577",
   "metadata": {},
   "source": [
    "# Énfasis\n",
    "Se pueden poner ´**negrillas** con doble carácter ´´´*´´´ o un ´´´_´´´\n",
    "Se pueden poner *italicas* con un solo carácter ´´´*´´´o un ´´´_´´´\n",
    "\n",
    "Se puede hacer ~~tachado~~ utilizando doble virgulilla ´´´~~´´´\n",
    "\n",
    "\n"
   ]
  },
  {
   "cell_type": "markdown",
   "id": "9e0f45a2",
   "metadata": {},
   "source": [
    "# Listas\n",
    "## Ordenadas\n",
    "1. colores\n",
    "  1. Rojo\n",
    "  2. Azul\n",
    "  3. Verde\n",
    "2. Sabores\n",
    "  1. Salado\n",
    "  2. Dulce\n",
    "\n",
    "## No ordenadas\n",
    "* Animales \n",
    "  - Perro\n",
    "  - Gato\n",
    "  - Caiman\n",
    "* Frutas\n",
    "  - Citricos\n",
    "    + Limón\n",
    "    + Naranja\n",
    "    + Toronja\n",
    "  - Manzana\n",
    "  - Pera"
   ]
  },
  {
   "cell_type": "markdown",
   "id": "54d28a76",
   "metadata": {},
   "source": [
    "# Enlaces\n",
    "Un enlace siempre tiene la forma ´´´[nombre](url)\"tooltip\"´´´\n",
    "\n",
    "### Libros\n",
    "* [Git.Book](https://git-scm.com/book/en/v2)\n",
    "* [Colección de Libros de Python](https://wiki.python.org/moin/PythonBooks)\n"
   ]
  },
  {
   "cell_type": "code",
   "execution_count": null,
   "id": "ea4923d2",
   "metadata": {},
   "outputs": [],
   "source": [
    "%%HTML\n",
    "<iframe width=\"560\" height=\"315\" src=\"https://www.youtube.com/embed/CFPLIaMpGrY\" title=\"YouTube video player\" frameborder=\"0\" allow=\"accelerometer; autoplay; clipboard-write; encrypted-media; gyroscope; picture-in-picture\" allowfullscreen></iframe>"
   ]
  },
  {
   "cell_type": "markdown",
   "id": "7937df15",
   "metadata": {},
   "source": [
    "# Imágenes\n",
    "\n",
    "Las imágenes tienen la forma ´´´![nombre](url)´´´![Jupyter](https://scontent.fclo2-1.fna.fbcdn.net/v/t1.6435-9/196676482_10223111522049606_3913815939263998273_n.jpg?_nc_cat=110&ccb=1-3&_nc_sid=09cbfe&_nc_eui2=AeGQV5z82r3OMMVCIDDc_ezq-3hNWgQ2o7j7eE1aBDajuI9fLmmCJyy6MwzrA5Wl32M&_nc_ohc=SY8CLG1_L48AX_o2nSU&_nc_ht=scontent.fclo2-1.fna&oh=56564a2134d476dd2b6503940c1e1b76&oe=60D05F29)"
   ]
  },
  {
   "cell_type": "markdown",
   "id": "fe871673",
   "metadata": {},
   "source": [
    "# Código\n",
    "\n",
    "Utilizar 4 espacios:\n",
    "    \n",
    "    frutas = ['pera', 'manzana', 'piña']\n",
    "    for fruta in frutas\n",
    "        print(frutas)\n",
    "        \n",
    "En un bloque de código, los TAGs HTML no tiene efecto:\n",
    "\n",
    "    <html>\n",
    "        <head>\n",
    "            <title>No pasa nada</title>\n",
    "        </head>\n",
    "        <body>\n",
    "        </body>\n",
    "     </html>\n",
    " \n",
    "Tambien se crea un bloque de código con triple comilla invertida, y le indico el lenguaje:\n",
    "\n",
    "```python\n",
    "frutas = ['pera', 'manzana', 'piña']\n",
    "for fruta in frutas:\n",
    "    print(fruta)\n",
    "```\n",
    "\n",
    "Otro ejemplo:\n",
    "\n",
    "```html\n",
    "<html>\n",
    "  <head>\n",
    "      <title>No pasa nada</title>\n",
    "  </head>\n",
    "  <body>\n",
    "  </body>\n",
    "</html>\n",
    "```\n"
   ]
  },
  {
   "cell_type": "markdown",
   "id": "ab34378f",
   "metadata": {},
   "source": [
    "# Tablas\n",
    "\n",
    "|Cedula|Nombre|Ciudad|\n",
    "|------|------|------|\n",
    "|39494423|Juan|Cali|\n",
    "|1101894333|Angie|Cartago|\n",
    "|1014888234|Pedro|Bogota|"
   ]
  },
  {
   "cell_type": "markdown",
   "id": "68ea8440",
   "metadata": {},
   "source": [
    "# Comandos"
   ]
  },
  {
   "cell_type": "code",
   "execution_count": null,
   "id": "5393f386",
   "metadata": {},
   "outputs": [],
   "source": [
    "%cd tmp"
   ]
  },
  {
   "cell_type": "code",
   "execution_count": null,
   "id": "5d930c10",
   "metadata": {},
   "outputs": [],
   "source": [
    "%lsmagic"
   ]
  },
  {
   "cell_type": "code",
   "execution_count": null,
   "id": "4736f9f5",
   "metadata": {},
   "outputs": [],
   "source": [
    "%run hola.py"
   ]
  },
  {
   "cell_type": "code",
   "execution_count": null,
   "id": "bf31f698",
   "metadata": {},
   "outputs": [],
   "source": []
  }
 ],
 "metadata": {
  "kernelspec": {
   "display_name": "Python 3",
   "language": "python",
   "name": "python3"
  },
  "language_info": {
   "codemirror_mode": {
    "name": "ipython",
    "version": 3
   },
   "file_extension": ".py",
   "mimetype": "text/x-python",
   "name": "python",
   "nbconvert_exporter": "python",
   "pygments_lexer": "ipython3",
   "version": "3.8.8"
  }
 },
 "nbformat": 4,
 "nbformat_minor": 5
}
